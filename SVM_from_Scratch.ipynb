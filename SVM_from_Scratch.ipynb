{
  "nbformat": 4,
  "nbformat_minor": 0,
  "metadata": {
    "colab": {
      "name": "SVM_from_Scratch",
      "version": "0.3.2",
      "views": {},
      "default_view": {},
      "provenance": [],
      "collapsed_sections": []
    },
    "kernelspec": {
      "name": "python3",
      "display_name": "Python 3"
    },
    "accelerator": "GPU"
  },
  "cells": [
    {
      "metadata": {
        "id": "NvEWqum4omRc",
        "colab_type": "code",
        "colab": {
          "autoexec": {
            "startup": false,
            "wait_interval": 0
          }
        }
      },
      "cell_type": "code",
      "source": [
        "import matplotlib.pyplot as plt\n",
        "from matplotlib import style\n",
        "import numpy as np\n",
        "style.use('ggplot')"
      ],
      "execution_count": 0,
      "outputs": []
    },
    {
      "metadata": {
        "id": "2dmJIKvKqTK7",
        "colab_type": "code",
        "colab": {
          "autoexec": {
            "startup": false,
            "wait_interval": 0
          }
        }
      },
      "cell_type": "code",
      "source": [
        "class Support_Vector_Machine:\n",
        "  \n",
        "  def __init__(self, visualization=True):\n",
        "    self.visualization = visualization\n",
        "    self.colors = {1:'r',-1:'b'}\n",
        "    if self.visualization:\n",
        "      self.fig = plt.figure()\n",
        "      self.ax = self.fig.add_subplot(1,1,1)\n",
        "  \n",
        "  def fit(self, data):\n",
        "    self.data =data\n",
        "    # { ||w||: [w,b] }\n",
        "    opt_dict={}\n",
        "    \n",
        "    #Think about every sign of W vector besides it's norm value\n",
        "    #Inner product of Transform and W will take care of that.\n",
        "    transforms = [[1,1], [1,-1], [-1,1], [-1,-1]]\n",
        "    \n",
        "    #Find Min and max data values\n",
        "    all_data = []\n",
        "    for yi in self.data:\n",
        "      for featureset in self.data[yi]:\n",
        "        for features in featureset:\n",
        "          all_data.append(features)\n",
        "    self.max_feature_values = max(all_data)\n",
        "    self.min_feature_values = min(all_data)\n",
        "    \n",
        "    #Optimization\n",
        "    step_sizes = [self.max_feature_values * 0.1, \n",
        "                  self.max_feature_values * 0.01,\n",
        "                 self.max_feature_values * 0.001]\n",
        "    \n",
        "    b_range_multiple = 5 #For range of b\n",
        "    b_multiple = 5 # Actual multiplied by b\n",
        "    latest_optimum = self.max_feature_values * 10\n",
        "    \n",
        "    for step in step_sizes:\n",
        "      w = np.array([latest_optimum, latest_optimum])\n",
        "      optimized =False\n",
        "      while not optimized:\n",
        "        for b in np.arange(-1 * (self.max_feature_values * b_range_multiple),\n",
        "                           self.max_feature_values * b_range_multiple,\n",
        "                          step * b_multiple):\n",
        "          for transformation in transforms:\n",
        "            w_t = w * transformation\n",
        "            found_option = True\n",
        "            for i in self.data:\n",
        "              #check yi(xi.w + b) >=1\n",
        "              for xi in self.data[i]:\n",
        "                yi= i\n",
        "                if not yi *(np.dot(w_t, xi) + b) >=1:\n",
        "                  found_option = False\n",
        "                  \n",
        "            if found_option:\n",
        "              opt_dict[np.linalg.norm(w_t)] = [w_t, b]\n",
        "        \n",
        "        if w[0] < 0 :\n",
        "          optimized = True\n",
        "          print('optimized.')\n",
        "        else:\n",
        "          w=w - step\n",
        "      norms = sorted([n for n in opt_dict])\n",
        "      opt_choice =opt_dict[norms[0]]\n",
        "      \n",
        "      self.w = opt_choice[0]\n",
        "      self.b = opt_choice[1]\n",
        "      latest_optimum = opt_choice[0][0] + step*2\n",
        "      \n",
        "                  \n",
        "  \n",
        "  def Predict(self, features):\n",
        "    #sign (x.w + b)\n",
        "    classification =np.sign(np.dot(np.array(features), self.w) + self.b)\n",
        "    if classification !=0 and self.visualization:\n",
        "      self.ax.scatter(features[0], features[1], s=200, marker ='*', c=self.colors[classification])\n",
        "    return classification\n",
        "  \n",
        "  def visualize(self):\n",
        "    [[self.ax.scatter(x[0],x[1],s=100,color=self.colors[i]) for x in data_dict[i]] for i in data_dict]\n",
        "    \n",
        "    #hyperplan = x.w +b\n",
        "    #v= x.w + b\n",
        "    def hyperplan(x,w,b,v):\n",
        "      return (-w[0]*x -b +v) / w[1]\n",
        "    \n",
        "    datarange = (self.min_feature_values * 0.9, self.max_feature_values * 1.1)\n",
        "    hyp_x_min = datarange[0]\n",
        "    hyp_x_max = datarange[1]\n",
        "    \n",
        "    #Positive support vector hyperplan\n",
        "    psv1 = hyperplan(hyp_x_min, self.w, self.b, 1)\n",
        "    psv2 = hyperplan(hyp_x_max, self.w, self.b, 1)\n",
        "    self.ax.plot([hyp_x_min, hyp_x_max],[psv1, psv2])\n",
        "    \n",
        "    #Negative support vector hyperplan\n",
        "    nsv1 = hyperplan(hyp_x_min, self.w, self.b, -1)\n",
        "    nsv2 = hyperplan(hyp_x_max, self.w, self.b, -1)\n",
        "    self.ax.plot([hyp_x_min, hyp_x_max],[nsv1, nsv2])\n",
        "    \n",
        "    #Decision Boundary\n",
        "    db1 = hyperplan(hyp_x_min, self.w, self.b, 0)\n",
        "    db2 = hyperplan(hyp_x_max, self.w, self.b, 0)\n",
        "    self.ax.plot([hyp_x_min, hyp_x_max],[db1, db2])\n",
        "    \n",
        "    plt.show()\n",
        "   "
      ],
      "execution_count": 0,
      "outputs": []
    },
    {
      "metadata": {
        "id": "LX3Nyv9Lw4c9",
        "colab_type": "code",
        "colab": {
          "autoexec": {
            "startup": false,
            "wait_interval": 0
          }
        }
      },
      "cell_type": "code",
      "source": [
        "data_dict= {-1: np.array([[1,7],[2,8],[3,8]]), 1:np.array([[5,1],\n",
        "                                                          [6,-1], [7,3]])}"
      ],
      "execution_count": 0,
      "outputs": []
    },
    {
      "metadata": {
        "id": "dy0Ax-JAw-1s",
        "colab_type": "code",
        "colab": {
          "autoexec": {
            "startup": false,
            "wait_interval": 0
          },
          "base_uri": "https://localhost:8080/",
          "height": 398
        },
        "outputId": "65b571fd-ffeb-4e84-814f-58ba7c9546e3",
        "executionInfo": {
          "status": "ok",
          "timestamp": 1527348770991,
          "user_tz": 240,
          "elapsed": 11174,
          "user": {
            "displayName": "Tejas Mahale",
            "photoUrl": "https://lh3.googleusercontent.com/a/default-user=s128",
            "userId": "107126697910026170785"
          }
        }
      },
      "cell_type": "code",
      "source": [
        "svm = Support_Vector_Machine()\n",
        "svm.fit(data=data_dict)\n",
        "svm.visualize()"
      ],
      "execution_count": 35,
      "outputs": [
        {
          "output_type": "stream",
          "text": [
            "optimized.\n",
            "optimized.\n",
            "optimized.\n"
          ],
          "name": "stdout"
        },
        {
          "output_type": "display_data",
          "data": {
            "image/png": "[encoded data removed]",
            "text/plain": [
              "<matplotlib.figure.Figure at 0x7f49c28ea4e0>"
            ]
          },
          "metadata": {
            "tags": []
          }
        }
      ]
    },
    {
      "metadata": {
        "id": "8JUxMNHrxCMK",
        "colab_type": "code",
        "colab": {
          "autoexec": {
            "startup": false,
            "wait_interval": 0
          }
        }
      },
      "cell_type": "code",
      "source": [
        ""
      ],
      "execution_count": 0,
      "outputs": []
    }
  ]
}